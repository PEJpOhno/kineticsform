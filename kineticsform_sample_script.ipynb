{
 "cells": [
  {
   "cell_type": "markdown",
   "id": "111f176a",
   "metadata": {},
   "source": [
    "Copyright (c) 2023 Mitsuru Ohno  \n",
    "Use of this source code is governed by a BSD-3-style  \n",
    "license that can be found in the LICENSE file.  \n",
    "  \n",
    "sample script for kineticsform: set up reaction kinetics equations from reaction formulas.  "
   ]
  },
  {
   "cell_type": "code",
   "execution_count": null,
   "id": "a95ebf7b",
   "metadata": {},
   "outputs": [],
   "source": [
    "import numpy as np\n",
    "import pandas as pd\n",
    "from src import kineticsform as kf"
   ]
  },
  {
   "cell_type": "code",
   "execution_count": null,
   "id": "34956278",
   "metadata": {},
   "outputs": [],
   "source": [
    "#f = input('input the source file name = ')\n",
    "f='sample_data.csv' #for demonstration\n",
    "df = pd.read_csv(f)\n",
    "df"
   ]
  },
  {
   "cell_type": "code",
   "execution_count": null,
   "id": "49114976",
   "metadata": {},
   "outputs": [],
   "source": [
    "kf.react2kinetic(df)"
   ]
  },
  {
   "cell_type": "code",
   "execution_count": null,
   "id": "5904e587",
   "metadata": {},
   "outputs": [],
   "source": [
    "#end"
   ]
  },
  {
   "cell_type": "code",
   "execution_count": null,
   "id": "07f7a117",
   "metadata": {},
   "outputs": [],
   "source": []
  }
 ],
 "metadata": {
  "kernelspec": {
   "display_name": "Python 3 (ipykernel)",
   "language": "python",
   "name": "python3"
  },
  "language_info": {
   "codemirror_mode": {
    "name": "ipython",
    "version": 3
   },
   "file_extension": ".py",
   "mimetype": "text/x-python",
   "name": "python",
   "nbconvert_exporter": "python",
   "pygments_lexer": "ipython3",
   "version": "3.8.13"
  }
 },
 "nbformat": 4,
 "nbformat_minor": 5
}
